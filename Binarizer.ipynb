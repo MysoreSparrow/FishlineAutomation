{
 "cells": [
  {
   "cell_type": "code",
   "execution_count": 1,
   "metadata": {},
   "outputs": [],
   "source": [
    "%matplotlib inline\n",
    "import matplotlib.pyplot as plt\n",
    "from ipywidgets import interact, FloatSlider\n",
    "import os\n",
    "import cv2\n",
    "import SimpleITK as sitk\n",
    "import numpy as np\n",
    "import glob"
   ]
  },
  {
   "cell_type": "code",
   "execution_count": 2,
   "metadata": {},
   "outputs": [],
   "source": [
    "path = \"C:/Users/keshavgubbi/Desktop/ATLAS/S5-Binarizing/data/sample/\"\n",
    "nrrd_path = \"C:/Users/keshavgubbi/Desktop/filestructure/mocktransf/PmCH1/individual_transformed\""
   ]
  },
  {
   "cell_type": "code",
   "execution_count": 3,
   "metadata": {},
   "outputs": [],
   "source": [
    "def threshold_otsu_usingOpenCV(img):\n",
    "    img = cv2.imread(os.path.join(path, filename),0)\n",
    "    imgarray = np.asarray(img)\n",
    "    # Otsu's thresholding\n",
    "    ret2,th2 = cv2.threshold(imgarray,0,255,cv2.THRESH_BINARY+cv2.THRESH_OTSU) #th2 is the thresholded image\n",
    "    plt.imshow(th2,cmap = \"gray\")\n",
    "    plt.show()\n",
    "    return th2   "
   ]
  },
  {
   "cell_type": "code",
   "execution_count": 21,
   "metadata": {},
   "outputs": [],
   "source": [
    "def threshold_otsu_usingSitk(img):\n",
    "    otsu_filter = sitk.OtsuThresholdImageFilter()\n",
    "    otsu_filter.SetInsideValue(0)\n",
    "    otsu_filter.SetOutsideValue(1)\n",
    "    image = sitk.ReadImage(os.path.join(path, filename))\n",
    "    print(\"image size:\",image.GetSize())\n",
    "    #print(image.GetDimension())\n",
    "    #print(image.GetPixelIDTypeAsString())\n",
    "    nda = sitk.GetArrayFromImage(image)\n",
    "    nda = np.reshape(image, (597, 974))\n",
    "    print(\"resized:\",nda.shape)\n",
    "    seg = otsu_filter.Execute(img) #seg is the thresholded image\n",
    "    plt.imshow(seg)\n",
    "    plt.show()\n",
    "    return img\n",
    "\n",
    "#sitk.Show(seg, title=\"new img\", debugOn=True) # to be used along with fiji"
   ]
  },
  {
   "cell_type": "code",
   "execution_count": 22,
   "metadata": {},
   "outputs": [
    {
     "name": "stdout",
     "output_type": "stream",
     "text": [
      "C:/Users/keshavgubbi/Desktop/ATLAS/S5-Binarizing/data/sample/T_AVG_PmCH1_GFP0007.tif\n",
      "image size: (597, 974)\n",
      "resized: (597, 974)\n"
     ]
    },
    {
     "ename": "TypeError",
     "evalue": "Wrong number or type of arguments for overloaded function 'OtsuThresholdImageFilter_Execute'.\n  Possible C/C++ prototypes are:\n    itk::simple::OtsuThresholdImageFilter::Execute(itk::simple::Image const &,itk::simple::Image const &)\n    itk::simple::OtsuThresholdImageFilter::Execute(itk::simple::Image const &)\n",
     "output_type": "error",
     "traceback": [
      "\u001b[1;31m---------------------------------------------------------------------------\u001b[0m",
      "\u001b[1;31mTypeError\u001b[0m                                 Traceback (most recent call last)",
      "\u001b[1;32m<ipython-input-22-7de533893e08>\u001b[0m in \u001b[0;36m<module>\u001b[1;34m\u001b[0m\n\u001b[0;32m      3\u001b[0m         \u001b[0mprint\u001b[0m\u001b[1;33m(\u001b[0m\u001b[0mos\u001b[0m\u001b[1;33m.\u001b[0m\u001b[0mpath\u001b[0m\u001b[1;33m.\u001b[0m\u001b[0mjoin\u001b[0m\u001b[1;33m(\u001b[0m\u001b[0mpath\u001b[0m\u001b[1;33m,\u001b[0m\u001b[0mfilename\u001b[0m\u001b[1;33m)\u001b[0m\u001b[1;33m)\u001b[0m\u001b[1;33m\u001b[0m\u001b[1;33m\u001b[0m\u001b[0m\n\u001b[0;32m      4\u001b[0m         \u001b[1;31m#thresh_image = threshold_otsu_usingOpenCV(filename)\u001b[0m\u001b[1;33m\u001b[0m\u001b[1;33m\u001b[0m\u001b[1;33m\u001b[0m\u001b[0m\n\u001b[1;32m----> 5\u001b[1;33m         \u001b[0mthresh_image\u001b[0m \u001b[1;33m=\u001b[0m \u001b[0mthreshold_otsu_usingSitk\u001b[0m\u001b[1;33m(\u001b[0m\u001b[0mfilename\u001b[0m\u001b[1;33m)\u001b[0m\u001b[1;33m\u001b[0m\u001b[1;33m\u001b[0m\u001b[0m\n\u001b[0m\u001b[0;32m      6\u001b[0m \u001b[1;33m\u001b[0m\u001b[0m\n\u001b[0;32m      7\u001b[0m \u001b[1;33m\u001b[0m\u001b[0m\n",
      "\u001b[1;32m<ipython-input-21-04bd71caf3f1>\u001b[0m in \u001b[0;36mthreshold_otsu_usingSitk\u001b[1;34m(img)\u001b[0m\n\u001b[0;32m     10\u001b[0m     \u001b[0mnda\u001b[0m \u001b[1;33m=\u001b[0m \u001b[0mnp\u001b[0m\u001b[1;33m.\u001b[0m\u001b[0mreshape\u001b[0m\u001b[1;33m(\u001b[0m\u001b[0mimage\u001b[0m\u001b[1;33m,\u001b[0m \u001b[1;33m(\u001b[0m\u001b[1;36m597\u001b[0m\u001b[1;33m,\u001b[0m \u001b[1;36m974\u001b[0m\u001b[1;33m)\u001b[0m\u001b[1;33m)\u001b[0m\u001b[1;33m\u001b[0m\u001b[1;33m\u001b[0m\u001b[0m\n\u001b[0;32m     11\u001b[0m     \u001b[0mprint\u001b[0m\u001b[1;33m(\u001b[0m\u001b[1;34m\"resized:\"\u001b[0m\u001b[1;33m,\u001b[0m\u001b[0mnda\u001b[0m\u001b[1;33m.\u001b[0m\u001b[0mshape\u001b[0m\u001b[1;33m)\u001b[0m\u001b[1;33m\u001b[0m\u001b[1;33m\u001b[0m\u001b[0m\n\u001b[1;32m---> 12\u001b[1;33m     \u001b[0mseg\u001b[0m \u001b[1;33m=\u001b[0m \u001b[0motsu_filter\u001b[0m\u001b[1;33m.\u001b[0m\u001b[0mExecute\u001b[0m\u001b[1;33m(\u001b[0m\u001b[0mimg\u001b[0m\u001b[1;33m)\u001b[0m \u001b[1;31m#seg is the thresholded image\u001b[0m\u001b[1;33m\u001b[0m\u001b[1;33m\u001b[0m\u001b[0m\n\u001b[0m\u001b[0;32m     13\u001b[0m     \u001b[0mplt\u001b[0m\u001b[1;33m.\u001b[0m\u001b[0mimshow\u001b[0m\u001b[1;33m(\u001b[0m\u001b[0mseg\u001b[0m\u001b[1;33m)\u001b[0m\u001b[1;33m\u001b[0m\u001b[1;33m\u001b[0m\u001b[0m\n\u001b[0;32m     14\u001b[0m     \u001b[0mplt\u001b[0m\u001b[1;33m.\u001b[0m\u001b[0mshow\u001b[0m\u001b[1;33m(\u001b[0m\u001b[1;33m)\u001b[0m\u001b[1;33m\u001b[0m\u001b[1;33m\u001b[0m\u001b[0m\n",
      "\u001b[1;32m~\\Anaconda3\\envs\\KPenv\\lib\\site-packages\\SimpleITK\\SimpleITK.py\u001b[0m in \u001b[0;36mExecute\u001b[1;34m(self, *args)\u001b[0m\n\u001b[0;32m  19097\u001b[0m         \u001b[0mExecute\u001b[0m\u001b[1;33m(\u001b[0m\u001b[0mOtsuThresholdImageFilter\u001b[0m \u001b[0mself\u001b[0m\u001b[1;33m,\u001b[0m \u001b[0mImage\u001b[0m \u001b[0mimage\u001b[0m\u001b[1;33m)\u001b[0m \u001b[1;33m->\u001b[0m \u001b[0mImage\u001b[0m\u001b[1;33m\u001b[0m\u001b[1;33m\u001b[0m\u001b[0m\n\u001b[0;32m  19098\u001b[0m         \"\"\"\n\u001b[1;32m> 19099\u001b[1;33m         \u001b[1;32mreturn\u001b[0m \u001b[0m_SimpleITK\u001b[0m\u001b[1;33m.\u001b[0m\u001b[0mOtsuThresholdImageFilter_Execute\u001b[0m\u001b[1;33m(\u001b[0m\u001b[0mself\u001b[0m\u001b[1;33m,\u001b[0m \u001b[1;33m*\u001b[0m\u001b[0margs\u001b[0m\u001b[1;33m)\u001b[0m\u001b[1;33m\u001b[0m\u001b[1;33m\u001b[0m\u001b[0m\n\u001b[0m\u001b[0;32m  19100\u001b[0m \u001b[1;33m\u001b[0m\u001b[0m\n\u001b[0;32m  19101\u001b[0m \u001b[1;31m# Register OtsuThresholdImageFilter in _SimpleITK:\u001b[0m\u001b[1;33m\u001b[0m\u001b[1;33m\u001b[0m\u001b[1;33m\u001b[0m\u001b[0m\n",
      "\u001b[1;31mTypeError\u001b[0m: Wrong number or type of arguments for overloaded function 'OtsuThresholdImageFilter_Execute'.\n  Possible C/C++ prototypes are:\n    itk::simple::OtsuThresholdImageFilter::Execute(itk::simple::Image const &,itk::simple::Image const &)\n    itk::simple::OtsuThresholdImageFilter::Execute(itk::simple::Image const &)\n"
     ]
    }
   ],
   "source": [
    "for filename in os.listdir(path):\n",
    "    if filename.endswith(\".nrrd\") or filename.endswith(\".tif\"): \n",
    "        print(os.path.join(path,filename))\n",
    "        #thresh_image = threshold_otsu_usingOpenCV(filename)\n",
    "        thresh_image = threshold_otsu_usingSitk(filename)\n",
    "        \n",
    "        "
   ]
  },
  {
   "cell_type": "code",
   "execution_count": null,
   "metadata": {},
   "outputs": [],
   "source": [
    "image = sitk.ReadImage(os.path.join(path, filename))\n",
    "print(\"image size:\",image.GetSize())\n",
    "#print(image.GetDimension())\n",
    "#print(image.GetPixelIDTypeAsString())\n",
    "nda = sitk.GetArrayFromImage(image)\n",
    "nda = np.reshape(image, (597, 974))\n",
    "print(\"resized:\",nda.shape)"
   ]
  },
  {
   "cell_type": "code",
   "execution_count": null,
   "metadata": {},
   "outputs": [],
   "source": []
  },
  {
   "cell_type": "code",
   "execution_count": null,
   "metadata": {},
   "outputs": [],
   "source": []
  },
  {
   "cell_type": "code",
   "execution_count": null,
   "metadata": {},
   "outputs": [],
   "source": [
    "\n",
    "    "
   ]
  },
  {
   "cell_type": "code",
   "execution_count": null,
   "metadata": {},
   "outputs": [],
   "source": []
  },
  {
   "cell_type": "code",
   "execution_count": null,
   "metadata": {},
   "outputs": [],
   "source": []
  },
  {
   "cell_type": "code",
   "execution_count": null,
   "metadata": {},
   "outputs": [],
   "source": [
    "def display_thresholded_image(img,threshold_filter):\n",
    "    plt.title(\"{}\".format(threshold_filter))\n",
    "    plt.axis('off')\n",
    "    plt.show()\n",
    "    return img"
   ]
  },
  {
   "cell_type": "code",
   "execution_count": null,
   "metadata": {},
   "outputs": [],
   "source": [
    "for filename in os.listdir(nrrd_path):\n",
    "    if filename.endswith(\".nrrd\") or filename.endswith(\".tif\"): \n",
    "        print(os.path.join(nrrd_path,filename))\n",
    "        img1 = sitk.ReadImage(os.path.join(nrrd_path, filename))\n",
    "        img1_255 = sitk.Cast(sitk.RescaleIntensity(img1), sitk.sitkUInt8)\n",
    "    else:\n",
    "        print(\"Check format of the file - doesnt belong to .nrrd or .tif formats.\")"
   ]
  }
 ],
 "metadata": {
  "kernelspec": {
   "display_name": "Python 3",
   "language": "python",
   "name": "python3"
  },
  "language_info": {
   "codemirror_mode": {
    "name": "ipython",
    "version": 3
   },
   "file_extension": ".py",
   "mimetype": "text/x-python",
   "name": "python",
   "nbconvert_exporter": "python",
   "pygments_lexer": "ipython3",
   "version": "3.7.9"
  }
 },
 "nbformat": 4,
 "nbformat_minor": 4
}
