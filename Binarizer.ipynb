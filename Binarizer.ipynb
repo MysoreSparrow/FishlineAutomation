{
 "cells": [
  {
   "cell_type": "code",
   "execution_count": 1,
   "metadata": {},
   "outputs": [],
   "source": [
    "%matplotlib inline\n",
    "import matplotlib.pyplot as plt\n",
    "from ipywidgets import interact, FloatSlider\n",
    "import os\n",
    "import cv2\n",
    "import SimpleITK as sitk\n",
    "import numpy as np\n",
    "import glob\n",
    "plt.rcParams['figure.figsize'] = [8, 6]\n",
    "plt.rcParams['figure.dpi'] = 100 \n",
    "plt.rcParams[\"savefig.format\"] = 'tif'"
   ]
  },
  {
   "cell_type": "code",
   "execution_count": 2,
   "metadata": {},
   "outputs": [],
   "source": [
    "path = \"C:/Users/keshavgubbi/Desktop/ATLAS/S5-Binarizing/data/foxp2/\"\n",
    "\n",
    "sample_path = \"C:/Users/keshavgubbi/Desktop/ATLAS/S5-Binarizing/data/sample/\"\n",
    "nrrd_path = \"C:/Users/keshavgubbi/Desktop/filestructure/mocktransf/PmCH1/individual_transformed\"\n",
    "#outpath = \"C:/Users/keshavgubbi/Desktop/ATLAS/S5-Binarizing/Output/foxp2/renyi/\"\n",
    "outpath = \"C:/Users/keshavgubbi/Desktop/ATLAS/S5-Binarizing/r/\""
   ]
  },
  {
   "cell_type": "code",
   "execution_count": 3,
   "metadata": {},
   "outputs": [],
   "source": [
    "def threshold_otsu_using_OpenCV(img):\n",
    "    img = cv2.imread(os.path.join(path, filename),0)\n",
    "    imgarray = np.asarray(img)\n",
    "    # Otsu's thresholding\n",
    "    ret2,th2 = cv2.threshold(imgarray,0,255,cv2.THRESH_BINARY+cv2.THRESH_OTSU) #th2 is the thresholded image\n",
    "    plt.imshow(th2,cmap = \"gray\")\n",
    "    plt.show()\n",
    "    return th2   "
   ]
  },
  {
   "cell_type": "code",
   "execution_count": 4,
   "metadata": {},
   "outputs": [],
   "source": [
    "def image_details(image):\n",
    "    print(\"**********************\")\n",
    "    print(\"Size:\",image.GetSize())\n",
    "    print(\"PixelIDType:\",image.GetPixelIDTypeAsString())\n",
    "    print(\"Voxel Size:\",image.GetSpacing())"
   ]
  },
  {
   "cell_type": "code",
   "execution_count": 5,
   "metadata": {},
   "outputs": [],
   "source": [
    "#def display_and_save(filename,filtered_image):\n",
    "\n",
    "#    plt.imshow(filtered_image, cmap='gray')\n",
    "#    plt.savefig(os.path.join(outpath,'otsu_{}'.format(filename)))\n",
    "#    plt.axis(\"Off\")\n",
    "#    plt.show()\n",
    "     #Dest_Path = 'C:/Users/keshavgubbi/Desktop/ATLAS/S5-Binarizing/Output/{}/'.format(filename)\n",
    "    \n",
    "     #if not os.path.exists(Dest_Path):\n",
    "       #print(\"path doesn't exist. trying to make the folder.\")\n",
    "       #os.makedirs(Dest_Path)\n",
    "\n"
   ]
  },
  {
   "cell_type": "code",
   "execution_count": 6,
   "metadata": {},
   "outputs": [],
   "source": [
    "def threshold_using_OtsuFilter(img):\n",
    "    \n",
    "    #image = sitk.ReadImage(os.path.join(sample_path, filename))\n",
    "    image = sitk.ReadImage(img)\n",
    "    image_details(image)\n",
    "\n",
    "    # global otsu filter\n",
    "    otsu_filter = sitk.OtsuThresholdImageFilter()\n",
    "    otsu_filter.SetInsideValue(0)\n",
    "    otsu_filter.SetOutsideValue(1)\n",
    "    otsu_segmented_image = otsu_filter.Execute(image)\n",
    "    otsu_segmented_image = np.reshape(otsu_segmented_image, (974, 597))\n",
    "    \n",
    "    \n",
    "    plt.title('otsu_{}'.format(img))\n",
    "    plt.imshow(otsu_segmented_image, cmap='gray')\n",
    "    plt.savefig(os.path.join(outpath,'otsu_{}'.format(img)),dpi = 100)\n",
    "    \n",
    "    plt.axis(\"Off\")\n",
    "    #plt.show()\n",
    "    #display_and_save(image, otsu_segmented_image)\n",
    "    return otsu_segmented_image"
   ]
  },
  {
   "cell_type": "code",
   "execution_count": 7,
   "metadata": {},
   "outputs": [],
   "source": [
    "def threshold_using_multiOtsu_Filter(img):\n",
    "    print(os.path.join(sample_path,filename))\n",
    "    image = sitk.ReadImage(os.path.join(sample_path, filename))\n",
    "    #image_details(image)\n",
    "    \n",
    "    multi_otsu_filter = sitk.OtsuMultipleThresholdsImageFilter()\n",
    "    multi_otsu_segmented_image = multi_otsu_filter.Execute(image)\n",
    "    multi_otsu_segmented_image = np.reshape(multi_otsu_segmented_image, (974, 597))\n",
    "    \n",
    "    #**Inline Display of Image**\n",
    "    fig = plt.figure(edgecolor='k')\n",
    "    ax = fig.add_axes([0,0,1,1])\n",
    "    plt.axis(\"Off\")\n",
    "    #plt.title('multiotsu_{}'.format(img))\n",
    "    #plt.imshow(multi_otsu_segmented_image, cmap='gray')\n",
    "    #plt.show()\n",
    "\n",
    "    print(\"saving\")\n",
    "    #plt.savefig(\"C:/Users/keshavgubbi/Desktop/ATLAS/S5-Binarizing/k/multiotsu_{}.tif\".format(multi_otsu_segmented_image),dpi = 100, cmap=\"gray\")\n",
    "    plt.imsave(\"C:/Users/keshavgubbi/Desktop/ATLAS/S5-Binarizing/k/multiotsu_{}.jpg\".format(img),multi_otsu_segmented_image, cmap=\"gray\")\n",
    "    \n",
    "    return multi_otsu_segmented_image\n",
    "    "
   ]
  },
  {
   "cell_type": "code",
   "execution_count": 8,
   "metadata": {},
   "outputs": [],
   "source": [
    "def threshold_using_Renyi_Filter(img):\n",
    "    #image = sitk.ReadImage(os.path.join(path, filename))\n",
    "    print(os.path.join(sample_path,filename))\n",
    "    image = sitk.ReadImage(os.path.join(sample_path, filename))\n",
    "    #image_details(image)\n",
    "\n",
    "    renyi_filter = sitk.RenyiEntropyThresholdImageFilter()\n",
    "    renyi_filter.SetInsideValue(0)\n",
    "    renyi_filter.SetOutsideValue(1)\n",
    "    renyi_image = renyi_filter.Execute(image)\n",
    "    renyi_image = np.reshape(renyi_image, (974, 597))\n",
    "    \n",
    "    #**Inline Display of Image**\n",
    "    fig = plt.figure(edgecolor='k')\n",
    "    ax = fig.add_axes([0,0,1,1])\n",
    "    plt.axis(\"Off\")\n",
    "    #plt.title('renyi_{}'.format(img))\n",
    "    plt.imshow(renyi_image, cmap='gray')\n",
    "    plt.show()\n",
    "\n",
    "    #**Saving Image**\n",
    "    plt.imsave(\"C:/Users/keshavgubbi/Desktop/ATLAS/S5-Binarizing/r/renyi_{}.jpg\".format(img),renyi_image, cmap=\"gray\")\n",
    "    print(\"saving\")\n",
    "    return renyi_image\n"
   ]
  },
  {
   "cell_type": "code",
   "execution_count": 9,
   "metadata": {},
   "outputs": [
    {
     "name": "stdout",
     "output_type": "stream",
     "text": [
      "C:/Users/keshavgubbi/Desktop/ATLAS/S5-Binarizing/data/fox/T_foxp2_AVG_GFP0000.tif\n"
     ]
    }
   ],
   "source": [
    "for filename in os.listdir(sample_path):\n",
    "    if filename.endswith(\".nrrd\") or filename.endswith(\".tif\"): \n",
    "        #print(os.path.join(sample_path,filename))\n",
    "        \n",
    "        #opencv_thresh_image = threshold_otsu_using_OpenCV(filename)\n",
    "        #otsu_thresh_image = threshold_using_OtsuFilter(filename)\n",
    "        #multi_otsu_thresh_image = threshold_using_multiOtsu_Filter(filename)\n",
    "        renyi_thresh_image = threshold_using_Renyi_Filter(filename)"
   ]
  },
  {
   "cell_type": "code",
   "execution_count": null,
   "metadata": {},
   "outputs": [],
   "source": []
  },
  {
   "cell_type": "code",
   "execution_count": null,
   "metadata": {},
   "outputs": [],
   "source": []
  },
  {
   "cell_type": "code",
   "execution_count": null,
   "metadata": {},
   "outputs": [],
   "source": []
  },
  {
   "cell_type": "code",
   "execution_count": null,
   "metadata": {},
   "outputs": [],
   "source": []
  },
  {
   "cell_type": "code",
   "execution_count": null,
   "metadata": {},
   "outputs": [],
   "source": [
    "  \"\"\"image = sitk.ReadImage(os.path.join(path, filename))\n",
    "print(\"image size:\",image.GetSize())\n",
    "#print(image.GetDimension())\n",
    "#print(image.GetPixelIDTypeAsString())\n",
    "nda = sitk.GetArrayFromImage(image)\n",
    "nda = np.reshape(image, (597, 974))\n",
    "print(\"resized:\",nda.shape)  \"\"\""
   ]
  },
  {
   "cell_type": "code",
   "execution_count": null,
   "metadata": {},
   "outputs": [],
   "source": [
    "\n",
    "    \"\"\"\n",
    "    print(\"image size:\",image.GetSize())\n",
    "    nda = sitk.GetArrayFromImage(image)\n",
    "    nda = np.reshape(image, (597, 974))\n",
    "    print(\"resized:\",nda.shape)\n",
    "    #seg = otsu_filter.Execute(nda) #seg is the thresholded image\n",
    "    img = sitk.GetImageFromArray(nda)\n",
    "    seg = otsu_filter.Execute(img)\n",
    "    seg = sitk.GetImageFromArray(seg)\n",
    "    print(\"image size:\",seg.GetSize())\n",
    "    plt.imshow(seg)\n",
    "    plt.show()\n",
    "    \"\"\"\n",
    "    "
   ]
  },
  {
   "cell_type": "code",
   "execution_count": null,
   "metadata": {},
   "outputs": [],
   "source": [
    "#Saving via Sitk\n",
    "    #name = \"multiotsu_{}\".format(img)\n",
    "    #outputpath = os.path.join(outpath,name)   #   get the save path\n",
    "    #writer = sitk.ImageFileWriter()\n",
    "    #writer.SetFileName(outputpath)\n",
    "    #writer.Execute(multi_otsu_segmented_image)\n",
    "\n",
    "    #sitk.WriteImage(multi_otsu_segmented_image,outputpath)"
   ]
  },
  {
   "cell_type": "code",
   "execution_count": null,
   "metadata": {},
   "outputs": [],
   "source": [
    "\n",
    "    "
   ]
  },
  {
   "cell_type": "code",
   "execution_count": null,
   "metadata": {},
   "outputs": [],
   "source": []
  },
  {
   "cell_type": "code",
   "execution_count": null,
   "metadata": {},
   "outputs": [],
   "source": []
  },
  {
   "cell_type": "code",
   "execution_count": null,
   "metadata": {},
   "outputs": [],
   "source": [
    " \"\"\"def display_thresholded_image(img,threshold_filter):\n",
    "    plt.title(\"{}\".format(threshold_filter))\n",
    "    plt.axis('off')\n",
    "    plt.show()\n",
    "    return img \"\"\""
   ]
  },
  {
   "cell_type": "code",
   "execution_count": null,
   "metadata": {},
   "outputs": [],
   "source": [
    "\"\"\"for filename in os.listdir(nrrd_path):\n",
    "    if filename.endswith(\".nrrd\") or filename.endswith(\".tif\"): \n",
    "        print(os.path.join(nrrd_path,filename))\n",
    "        img1 = sitk.ReadImage(os.path.join(nrrd_path, filename))\n",
    "        img1_255 = sitk.Cast(sitk.RescaleIntensity(img1), sitk.sitkUInt8)\n",
    "    else:\n",
    "        print(\"Check format of the file - doesnt belong to .nrrd or .tif formats.\")  \"\"\""
   ]
  }
 ],
 "metadata": {
  "kernelspec": {
   "display_name": "Python 3",
   "language": "python",
   "name": "python3"
  },
  "language_info": {
   "codemirror_mode": {
    "name": "ipython",
    "version": 3
   },
   "file_extension": ".py",
   "mimetype": "text/x-python",
   "name": "python",
   "nbconvert_exporter": "python",
   "pygments_lexer": "ipython3",
   "version": "3.8.5"
  }
 },
 "nbformat": 4,
 "nbformat_minor": 4
}
