{
 "cells": [
  {
   "cell_type": "markdown",
   "id": "72431ca6-f28b-4268-82e2-38a058eb14ff",
   "metadata": {},
   "source": [
    "# Image Processing for CZI Files"
   ]
  },
  {
   "cell_type": "markdown",
   "id": "0c49a706-6a58-4a6b-8ec8-233a43e245bf",
   "metadata": {},
   "source": [
    "## Splitting the combined .czi file into separate channels"
   ]
  },
  {
   "cell_type": "markdown",
   "id": "d4b0fad7-3386-448e-8776-7e2203441bf1",
   "metadata": {},
   "source": [
    "### List of Tasks"
   ]
  },
  {
   "cell_type": "markdown",
   "id": "f076d1d7-cfc1-4a0f-8b63-2079ae6e02c9",
   "metadata": {},
   "source": [
    "1. Read CZI file from a given folder.\n",
    "2. Read metadata for each file and based on channel number split into separate channels.\n",
    "3. Save each channel as a separate tif/tiff file with correct channel name without permission errors."
   ]
  },
  {
   "cell_type": "code",
   "execution_count": null,
   "id": "12bbda56-fc13-4dd4-a623-d46171a37741",
   "metadata": {},
   "outputs": [],
   "source": [
    "import glob\n",
    "import os\n",
    "import re\n",
    "import shutil\n",
    "import time\n",
    "\n",
    "import imageio\n",
    "import nrrd\n",
    "import numpy as np\n",
    "import SimpleITK as sitk\n",
    "import tifffile as tiff\n",
    "from aicspylibczi import CziFile\n",
    "from scipy import ndimage\n",
    "from skimage import exposure, io"
   ]
  },
  {
   "cell_type": "markdown",
   "id": "c939a731-1290-46fa-90ec-5bff25c704fa",
   "metadata": {},
   "source": [
    "### Enter the exact/full path of the folder where images are located."
   ]
  },
  {
   "cell_type": "code",
   "execution_count": null,
   "id": "c7b76a95-7169-4d63-8267-ace80e12e767",
   "metadata": {},
   "outputs": [],
   "source": [
    "c_path = r\"C:\\Users\\keshavgubbi\\Desktop\\LinesReg\\new1020\"\n",
    "original_path = c_path + r\"\\original\""
   ]
  },
  {
   "cell_type": "code",
   "execution_count": null,
   "id": "93888a85-809b-4142-b790-dc32e8d731c2",
   "metadata": {},
   "outputs": [],
   "source": [
    "if not os.path.exists(original_path):\n",
    "    print(f\"Creating {original_path}\")\n",
    "    os.makedirs(original_path, exist_ok=True)"
   ]
  },
  {
   "cell_type": "code",
   "execution_count": null,
   "id": "ebc441b8-f35f-4a6d-9a87-4cecd5135186",
   "metadata": {},
   "outputs": [],
   "source": [
    "ref_ch_num = int(input(\"Enter Reference Channel Number:\"))"
   ]
  },
  {
   "cell_type": "code",
   "execution_count": null,
   "id": "c94a1ee6-71fd-47dc-8437-29bae1f0b510",
   "metadata": {},
   "outputs": [],
   "source": [
    "def czi_split(f):\n",
    "    "
   ]
  },
  {
   "cell_type": "code",
   "execution_count": null,
   "id": "7df3df2e-22dd-4240-bd0e-bbed45999657",
   "metadata": {},
   "outputs": [],
   "source": [
    "start = time.time()\n",
    "for file in os.listdir(c_path):\n",
    "    if file.endswith(\".czi\"):\n",
    "        print(file)\n",
    "        name, ext = file.split(\".\")\n",
    "\n",
    "        czi = CziFile(os.path.join(c_path, file))\n",
    "        max_channels = range(*czi.dims_shape()[0][\"C\"])\n",
    "        max_slices = range(*czi.dims_shape()[0][\"Z\"])\n",
    "        \n",
    "        # for ch_num in max_channels:\n",
    "        for ch_num in range(len(max_channels)):\n",
    "            print('Processing ch_num:', ch_num, '...........')\n",
    "            ref_image_list = sig_image_list = []\n",
    "            for z_plane in max_slices:\n",
    "                imgarray, shp = c.read_image(B=0, S=0, C=ch_num, T=0, Z=z_plane)\n",
    "                \n",
    "                if ch_num == ref_ch_num:\n",
    "                    ref_image_list.append(np.squeeze(imgarray))\n",
    "                else:\n",
    "                    sig_image_list.append(np.squeeze(imgarray))\n",
    "                    \n",
    "        RImage = np.stack(ref_image_list).astype('uint8')\n",
    "        SImage = np.stack(sig_image_list).astype('uint8')\n",
    "\n",
    "        print(f\"Adding slice {z_plane} to {name}_ref.tif\")\n",
    "        with tiff.TiffWriter(os.path.join(original_path, f\"{name}_ref.tif\"), imagej=True) as tifw:\n",
    "                tifw.write(RImage).astype(\"uint8\"))\n",
    "        print(f\"Adding slice {z_plane} to {name}_sig.tif\")\n",
    "        with tiff.TiffWriter(os.path.join(original_path, f\"{name}_sig.tif\"), imagej=True) as tifw:\n",
    "                tifw.write(SImage).astype(\"uint8\"))\n",
    "\n",
    "end = time.time()\n",
    "t = end - start\n",
    "print(f\"Totally took {t}s to split channels!\")"
   ]
  },
  {
   "cell_type": "markdown",
   "id": "679d5c7f-aa34-45ff-822e-a51f89e310fe",
   "metadata": {},
   "source": [
    "## Image Processing the tif files"
   ]
  },
  {
   "cell_type": "code",
   "execution_count": null,
   "id": "05c40ec1-7d80-4b5b-a48b-90a75a21b154",
   "metadata": {},
   "outputs": [],
   "source": [
    "line_name = input(\"Enter Line_name:\")\n",
    "tag_name = input(\"Enter tag name or name of the stain used:\")\n",
    "\n",
    "line_path = original_path\n",
    "processed_path = line_path + \"/processed/\"\n",
    "processed_for_average_path = line_path + \"/processed_for_average/\""
   ]
  },
  {
   "cell_type": "code",
   "execution_count": null,
   "id": "c8f47b46-ec1a-478e-b8a1-07bf2bbda2ae",
   "metadata": {},
   "outputs": [],
   "source": [
    "def image_details(f):\n",
    "    print(\"********Image Details**************\")\n",
    "    img = io.imread(f)\n",
    "    print(type(img))\n",
    "    print(\"Dtype:\", img.dtype)\n",
    "    print(\"Shape:\", img.shape)\n",
    "    return img\n",
    "\n",
    "\n",
    "def convert_to_8bit(f):\n",
    "    print(\"********Checking Image Type********\")\n",
    "    # img = io.imread(f)\n",
    "    dtype = f.dtype\n",
    "    print(dtype)\n",
    "    if dtype != \"uint8\":\n",
    "        f.astype(\"uint8\", copy=False)\n",
    "        print(dtype)\n",
    "    return f.astype(\"uint8\")\n",
    "\n",
    "\n",
    "def read_voxel_size(f):\n",
    "    # print(\"********Reading Voxel Size********\")\n",
    "    im = sitk.ReadImage(f)\n",
    "    width, height = im.GetSpacing()\n",
    "    # print('Current voxel size:', width, height)\n",
    "    return width, height\n",
    "\n",
    "\n",
    "def ce(f):\n",
    "    # i = img_as_float(io.imread(f)).astype(np.float64)\n",
    "    logarithmic_corrected = exposure.adjust_log(f, 3)\n",
    "    return logarithmic_corrected\n",
    "\n",
    "\n",
    "def _rotate(src, angle):\n",
    "    # angle in degrees\n",
    "    rotated_matrix = ndimage.rotate(src, angle=angle, reshape=False)\n",
    "    return rotated_matrix\n",
    "\n",
    "\n",
    "def tiff_unstackAndrestack(f):\n",
    "    \"\"\"\n",
    "    :param f: tiff file\n",
    "    :return: rotated_image_stack\n",
    "    #1. Iterate through each file as a tiff file.\n",
    "    #2. split into individual pages //Unstacking\n",
    "    #3. rotate each page and save the rotated_page into a new list\n",
    "    #4. restack each array from the list\n",
    "    \"\"\"\n",
    "    with tiff.TiffFile(f, mode=\"r+b\") as tif:\n",
    "        print(f\" Processing {tif} for rotation...\")\n",
    "        for page in tif.pages:\n",
    "            rotated_page = _rotate(page.asarray(), theta)\n",
    "            rotated_page_list.append(rotated_page)\n",
    "            rotated_image_stack = np.stack(rotated_page_list)\n",
    "    return rotated_image_stack.astype(\"uint8\")"
   ]
  },
  {
   "cell_type": "code",
   "execution_count": null,
   "id": "fb6273a5-75cf-4af9-ae7f-2ffe1c4895e5",
   "metadata": {},
   "outputs": [],
   "source": [
    "def split_and_rename(f):\n",
    "    filename, exte = f.split(\".\")\n",
    "    _first, _last = filename.split(\"_\", 1)\n",
    "    fishnum, tag = _last.split(\"_\", 1)\n",
    "    # print(_first, fishnum, ext)\n",
    "    return _first, fishnum"
   ]
  },
  {
   "cell_type": "code",
   "execution_count": null,
   "id": "83cd2483-67a7-4bc1-be60-34927e1c6b72",
   "metadata": {},
   "outputs": [],
   "source": [
    "for item in os.listdir(line_path):\n",
    "    if item.endswith(\".tif\"):\n",
    "\n",
    "        # ****Contrast Enhancement, 8bit conversion, fixing voxel Depth******#\n",
    "        g = tiff.imread(os.path.join(line_path, item))\n",
    "        print(f\"The file {item} has dimensions : {g.shape} and is of type: {g.dtype} \")\n",
    "        CE_image = ce(g)\n",
    "        print(f\"Creating file {item} ...\")\n",
    "        with tiff.TiffWriter(os.path.join(line_path, item), imagej=True) as tifw:\n",
    "            tifw.write(\n",
    "                CE_image.astype(\"uint8\"),\n",
    "                metadata={\"spacing\": 1.0, \"unit\": \"um\", \"axes\": \"ZYX\"},\n",
    "            )\n",
    "\n",
    "#         #***********Rotation*********************************#\n",
    "#         print(f'Image stack to be rotated: {item}')\n",
    "#         theta = float(input('Enter the angle by which image to be rotated:'))\n",
    "#         rotated_page_list = []\n",
    "#         rotated_image = tiff_unstackAndrestack(os.path.join(line_path, item))\n",
    "#         print(f'Creating Rotated Image: rotated_{item}')\n",
    "#         with tiff.TiffWriter(os.path.join(line_path, f\"{item}\"), imagej=True) as tifw:\n",
    "#             tifw.write(rotated_image.astype('uint8'), metadata={'spacing': 1.0, 'unit': 'um', 'axes': 'ZYX'})\n",
    "#         print('*********************************************************')"
   ]
  },
  {
   "cell_type": "code",
   "execution_count": null,
   "id": "d513f070-9668-462f-83bc-6843d780814d",
   "metadata": {},
   "outputs": [],
   "source": [
    "# **********Final Saving of Images to respective folders********\n",
    "print(\"Final Saving of Images to respective folders!\")\n",
    "if not os.path.exists(processed_path):\n",
    "    print(f\"Creating {processed_path}\")\n",
    "    os.makedirs(processed_path, exist_ok=True)\n",
    "\n",
    "if not os.path.exists(processed_for_average_path):\n",
    "    print(f\"Creating {processed_for_average_path}\")\n",
    "    os.makedirs(processed_for_average_path, exist_ok=True)"
   ]
  },
  {
   "cell_type": "code",
   "execution_count": null,
   "id": "146d7521-dcfe-49d4-b6fa-ac7b7c06f5d3",
   "metadata": {},
   "outputs": [],
   "source": [
    "for item in os.listdir(line_path):\n",
    "    if item.endswith(\".tif\") and re.search(\"ref\", str(item)):\n",
    "        print(f\"Image stack to be saved: {item}\")\n",
    "        # Read the data back from file\n",
    "        readdata = tiff.imread(os.path.join(line_path, item))\n",
    "        name, fn = split_and_rename(item)\n",
    "\n",
    "        print(f\"Creating {name}_{fn}_{tag_name}.nrrd\")\n",
    "        nrrd.write(\n",
    "            os.path.join(processed_path, f\"{name}_{fn}_{tag_name}.nrrd\"),\n",
    "            readdata,\n",
    "            index_order=\"C\",\n",
    "        )\n",
    "\n",
    "        print(f\"Creating {name}_{fn}_{tag_name}.tif\")\n",
    "        with tiff.TiffWriter(\n",
    "            os.path.join(processed_for_average_path, f\"{name}_{fn}_{tag_name}.tif\"),\n",
    "            imagej=True,\n",
    "        ) as tifw:\n",
    "            tifw.write(\n",
    "                readdata.astype(\"uint8\"),\n",
    "                metadata={\"spacing\": 1.0, \"unit\": \"um\", \"axes\": \"ZYX\"},\n",
    "            )"
   ]
  },
  {
   "cell_type": "code",
   "execution_count": null,
   "id": "096fd482-98ab-4a90-9cec-dc6d9372ccec",
   "metadata": {},
   "outputs": [],
   "source": [
    "for item in os.listdir(line_path):\n",
    "    if item.endswith(\".tif\") and re.search(\"sig\", str(item)):\n",
    "        # Read the data back from file\n",
    "        readdata = tiff.imread(os.path.join(line_path, item))\n",
    "        name = split_and_rename(item)\n",
    "\n",
    "        print(f\"Creating {name}_{fn}_GFP.nrrd\")\n",
    "        nrrd.write(\n",
    "            os.path.join(processed_path, f\"{name}_{fn}_GFP.nrrd\"),\n",
    "            readdata,\n",
    "            index_order=\"C\",\n",
    "        )\n",
    "\n",
    "        print(f\"Creating {name}_{fn}_GFP.tif\")\n",
    "        with tiff.TiffWriter(\n",
    "            os.path.join(processed_for_average_path, f\"{name}_{fn}_GFP.tif\"),\n",
    "            imagej=True,\n",
    "        ) as tifw:\n",
    "            tifw.write(\n",
    "                readdata.astype(\"uint8\"),\n",
    "                metadata={\"spacing\": 1.0, \"unit\": \"um\", \"axes\": \"ZYX\"},\n",
    "            )\n",
    "\n",
    "end = time.time()\n",
    "print(\"total Execution Time:\", end - start, \"s\")"
   ]
  },
  {
   "cell_type": "code",
   "execution_count": null,
   "id": "a434c873-4915-48b4-9f28-ae60ad4222f0",
   "metadata": {},
   "outputs": [],
   "source": []
  },
  {
   "cell_type": "code",
   "execution_count": null,
   "id": "d33a585e-455a-4c2d-a6fd-f088e29292da",
   "metadata": {},
   "outputs": [],
   "source": []
  }
 ],
 "metadata": {
  "kernelspec": {
   "display_name": "Python 3",
   "language": "python",
   "name": "python3"
  },
  "language_info": {
   "codemirror_mode": {
    "name": "ipython",
    "version": 3
   },
   "file_extension": ".py",
   "mimetype": "text/x-python",
   "name": "python",
   "nbconvert_exporter": "python",
   "pygments_lexer": "ipython3",
   "version": "3.8.8"
  }
 },
 "nbformat": 4,
 "nbformat_minor": 5
}
