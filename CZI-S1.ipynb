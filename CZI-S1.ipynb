{
 "cells": [
  {
   "cell_type": "markdown",
   "id": "72431ca6-f28b-4268-82e2-38a058eb14ff",
   "metadata": {},
   "source": [
    "# Image Processing for CZI Files"
   ]
  },
  {
   "cell_type": "markdown",
   "id": "0c49a706-6a58-4a6b-8ec8-233a43e245bf",
   "metadata": {},
   "source": [
    "## Splitting the combined .czi file into separate channels"
   ]
  },
  {
   "cell_type": "markdown",
   "id": "d4b0fad7-3386-448e-8776-7e2203441bf1",
   "metadata": {},
   "source": [
    "### List of Tasks"
   ]
  },
  {
   "cell_type": "markdown",
   "id": "f076d1d7-cfc1-4a0f-8b63-2079ae6e02c9",
   "metadata": {},
   "source": [
    "1. Read CZI file from a given folder.\n",
    "2. Read metadata for each file and based on channel number split into separate channels.\n",
    "3. Save each channel as a separate tif/tiff file with correct channel name without permission errors."
   ]
  },
  {
   "cell_type": "code",
   "execution_count": 1,
   "id": "12bbda56-fc13-4dd4-a623-d46171a37741",
   "metadata": {},
   "outputs": [],
   "source": [
    "import glob\n",
    "import os\n",
    "import re\n",
    "import shutil\n",
    "import time\n",
    "import cv2 as cv\n",
    "import imageio \n",
    "import nrrd\n",
    "import numpy as np\n",
    "import SimpleITK as sitk\n",
    "import tifffile as tiff\n",
    "from aicspylibczi import CziFile\n",
    "from scipy import ndimage\n",
    "from skimage import exposure, io\n",
    "import matplotlib.pyplot as plt\n",
    "from skimage import data\n",
    "from aicsimageio import AICSImage"
   ]
  },
  {
   "cell_type": "markdown",
   "id": "c939a731-1290-46fa-90ec-5bff25c704fa",
   "metadata": {},
   "source": [
    "### Enter the exact/full path of the folder where images are located."
   ]
  },
  {
   "cell_type": "code",
   "execution_count": 2,
   "id": "c7b76a95-7169-4d63-8267-ace80e12e767",
   "metadata": {},
   "outputs": [],
   "source": [
    "c_path = r\"C:\\Users\\keshavgubbi\\Desktop\\LinesReg\\210607_shhGFP_HuClyntagRFP\"\n",
    "original_path = c_path + r\"\\original\""
   ]
  },
  {
   "cell_type": "code",
   "execution_count": 5,
   "id": "93888a85-809b-4142-b790-dc32e8d731c2",
   "metadata": {},
   "outputs": [],
   "source": [
    "if not os.path.exists(original_path):\n",
    "    print(f\"Creating {original_path}\")\n",
    "    os.makedirs(original_path, exist_ok=True)"
   ]
  },
  {
   "cell_type": "code",
   "execution_count": 4,
   "id": "ebc441b8-f35f-4a6d-9a87-4cecd5135186",
   "metadata": {},
   "outputs": [
    {
     "name": "stdin",
     "output_type": "stream",
     "text": [
      "Enter Reference Channel Number: 1\n",
      "Enter Line_name: shhGFP\n",
      "Enter tag name or name of the stain used: HuClyntagRFP\n"
     ]
    }
   ],
   "source": [
    "ref_ch_num = int(input(\"Enter Reference Channel Number:\"))\n",
    "line_name = input(\"Enter Line_name:\")\n",
    "tag_name = input(\"Enter tag name or name of the stain used:\")\n"
   ]
  },
  {
   "cell_type": "code",
   "execution_count": 6,
   "id": "e95fea36-f1db-41d4-8843-e3cbdbfc0173",
   "metadata": {},
   "outputs": [
    {
     "name": "stdout",
     "output_type": "stream",
     "text": [
      "shhGFP_1_HuClyntagRFP.czi\n"
     ]
    },
    {
     "name": "stderr",
     "output_type": "stream",
     "text": [
      "C:\\Users\\keshavgubbi\\Anaconda3\\lib\\site-packages\\aicsimageio\\transforms.py:177: UserWarning: Data has dimension B with depth 1, assuming B=0 is the desired value, if not the case specify B=x where x is an integer, list, tuple, range, or slice.\n",
      "  warnings.warn(\n"
     ]
    },
    {
     "name": "stdout",
     "output_type": "stream",
     "text": [
      "shhGFP_2_HuClyntagRFP.czi\n",
      "shhGFP_3_HuClyntagRFP.czi\n",
      "shhGFP_4_HuClyntagRFP.czi\n",
      "shhGFP_5_HuClyntagRFP.czi\n",
      "shhGFP_6_HuClyntagRFP.czi\n",
      "shhGFP_7_HuClyntagRFP.czi\n",
      "shhGFP_8_HuClyntagRFP.czi\n",
      "shhGFP_9_HuClyntagRFP.czi\n"
     ]
    }
   ],
   "source": [
    "for file in os.listdir(c_path):\n",
    "    if file.endswith(\".czi\"):\n",
    "        print(file)\n",
    "        name, ext = file.split(\".\")\n",
    "        c = AICSImage(os.path.join(c_path, file))\n",
    "\n",
    "        # Obtain the image data from respective channels\n",
    "        if ref_ch_num == 0:\n",
    "            ref_channel_data = c.get_image_data(\"ZYX\", C=0, S=0, T=0)\n",
    "            sig_channel_data = c.get_image_data(\"ZYX\", C=1, S=0, T=0)\n",
    "            \n",
    "        else:\n",
    "            ref_channel_data = c.get_image_data(\"ZYX\", C=1, S=0, T=0)\n",
    "            sig_channel_data = c.get_image_data(\"ZYX\", C=0,S=0, T=0)\n",
    "\n",
    "\n",
    "        RImage = np.stack(ref_channel_data).astype('uint8')\n",
    "        SImage = np.stack(sig_channel_data).astype('uint8')\n",
    "        \n",
    "#         print(len(RImage))\n",
    "#         print(len(SImage))\n",
    "\n",
    "        with tiff.TiffWriter(os.path.join(original_path, f\"{name}_ref.tif\"), imagej=True) as tifw:\n",
    "                tifw.write(RImage)\n",
    "\n",
    "        with tiff.TiffWriter(os.path.join(original_path, f\"{name}_sig.tif\"), imagej=True) as tifw:\n",
    "                tifw.write(SImage)\n",
    "        "
   ]
  },
  {
   "cell_type": "code",
   "execution_count": null,
   "id": "3d755719-bb49-467e-a289-6d313f53eb9f",
   "metadata": {},
   "outputs": [],
   "source": [
    "# #start = time.time()\n",
    "# for file in os.listdir(c_path):\n",
    "#     if file.endswith(\".czi\"):\n",
    "#         print(file)\n",
    "#         name, ext = file.split(\".\")\n",
    "\n",
    "#         czi = CziFile(os.path.join(c_path, file))\n",
    "#         max_channels = range(*czi.dims_shape()[0][\"C\"])\n",
    "#         max_slices = range(*czi.dims_shape()[0][\"Z\"])\n",
    "        \n",
    "#         # for ch_num in max_channels:\n",
    "#         for ch_num in range(len(max_channels)):\n",
    "#             print('Processing ch_num:', ch_num, '...........')\n",
    "#             ref_image_list = sig_image_list = []\n",
    "#             for z_plane in max_slices:\n",
    "#                 imgarray, shp = czi.read_image(B=0, S=0, C=ch_num, T=0, Z=z_plane)\n",
    "#                 print(f\"Working with slice {z_plane}....\")\n",
    "#                 if ch_num == ref_ch_num:\n",
    "#                     ref_image_list.append(np.squeeze(imgarray))\n",
    "#                 elif ch_num != ref_ch_num:\n",
    "#                     sig_image_list.append(np.squeeze(imgarray))  \n",
    "#                 else:\n",
    "#                     print('Exceeded max channels!')\n",
    "#         RImage = np.stack(ref_image_list).astype('uint8')\n",
    "#         SImage = np.stack(sig_image_list).astype('uint8')  \n",
    "        \n",
    "#         print(len(RImage))\n",
    "#         print(len(SImage))\n",
    "#         print(f\"Adding slice {z_plane} to {name}_ref.tif\")\n",
    "#         with tiff.TiffWriter(os.path.join(original_path, f\"{name}_ref.tif\"), imagej=True) as tifw:\n",
    "#                 tifw.write(RImage)\n",
    "#         print(f\"Adding slice {z_plane} to {name}_sig.tif\")\n",
    "#         with tiff.TiffWriter(os.path.join(original_path, f\"{name}_sig.tif\"), imagej=True) as tifw:\n",
    "#                 tifw.write(SImage)"
   ]
  },
  {
   "cell_type": "markdown",
   "id": "679d5c7f-aa34-45ff-822e-a51f89e310fe",
   "metadata": {},
   "source": [
    "## Image Processing the tif files"
   ]
  },
  {
   "cell_type": "code",
   "execution_count": 7,
   "id": "05c40ec1-7d80-4b5b-a48b-90a75a21b154",
   "metadata": {},
   "outputs": [],
   "source": [
    "line_path = original_path\n",
    "processed_path = line_path + \"/processed/\"\n",
    "processed_for_average_path = line_path + \"/processed_for_average/\""
   ]
  },
  {
   "cell_type": "code",
   "execution_count": 8,
   "id": "c8f47b46-ec1a-478e-b8a1-07bf2bbda2ae",
   "metadata": {},
   "outputs": [],
   "source": [
    "def image_details(f):\n",
    "    print(\"********Image Details**************\")\n",
    "    img = io.imread(f)\n",
    "    print(type(img))\n",
    "    print(\"Dtype:\", img.dtype)\n",
    "    print(\"Shape:\", img.shape)\n",
    "    return img\n",
    "\n",
    "\n",
    "def convert_to_8bit(f):\n",
    "    print(\"********Checking Image Type********\")\n",
    "    # img = io.imread(f)\n",
    "    dtype = f.dtype\n",
    "    print(dtype)\n",
    "    if dtype != \"uint8\":\n",
    "        f.astype(\"uint8\", copy=False)\n",
    "        print(dtype)\n",
    "    return f.astype(\"uint8\")\n",
    "\n",
    "\n",
    "def read_voxel_size(f):\n",
    "    # print(\"********Reading Voxel Size********\")\n",
    "    im = sitk.ReadImage(f)\n",
    "    width, height = im.GetSpacing()\n",
    "    # print('Current voxel size:', width, height)\n",
    "    return width, height\n",
    "\n",
    "\n",
    "def ce(f):\n",
    "    # i = img_as_float(io.imread(f)).astype(np.float64)\n",
    "    logarithmic_corrected = exposure.adjust_log(f, 3)\n",
    "    return logarithmic_corrected\n",
    "\n",
    "\n",
    "def _rotate(src, angle):\n",
    "    # angle in degrees\n",
    "    rotated_matrix = ndimage.rotate(src, angle=angle, reshape=False)\n",
    "    return rotated_matrix\n",
    "\n",
    "\n",
    "def tiff_unstackAndrestackForRotate(f):\n",
    "    \"\"\"\n",
    "    :param f: tiff file\n",
    "    :return: rotated_image_stack\n",
    "    #1. Iterate through each file as a tiff file.\n",
    "    #2. split into individual pages //Unstacking\n",
    "    #3. rotate each page and save the rotated_page into a new list\n",
    "    #4. restack each array from the list\n",
    "    \"\"\"\n",
    "    with tiff.TiffFile(f, mode=\"r+b\") as tif:\n",
    "        print(f\" Processing {tif} for rotation...\")\n",
    "        for page in tif.pages:\n",
    "            rotated_page = _rotate(page.asarray(), theta)\n",
    "            rotated_page_list.append(rotated_page)\n",
    "            rotated_image_stack = np.stack(rotated_page_list)\n",
    "    return rotated_image_stack.astype(\"uint8\")\n",
    "\n",
    "#Contrast Enhancement Function\n",
    "alpha = 10.0 # Contrast control (1.0-3.0) but 5 is required for my purposes here\n",
    "beta = 5 # Brightness control (0-100). Not to be added beyond 5, to not hamper the signal with unnecesary salt and peper noise.\n",
    "def tiff_UnstackAndrestackForContrastEnhancement(f):\n",
    "    \"\"\"\n",
    "    :param f: tiff file\n",
    "    :return: contrast_enhanced_image_stack\n",
    "    #1. Iterate through each file as a tiff file.\n",
    "    #2. Split into individual pages //Unstacking and convert each page into an 2D array\n",
    "    #3. Enhance Contrast for each page and save the contrast_enhanced_page \n",
    "    #3a. then pass through bilat filter to remove any residual salt and pepper noise\n",
    "    #4. Add each page into contrast_enhanced_list and stack the list\n",
    "    #5. Return the stack.\n",
    "    \"\"\"\n",
    "    contrast_enhanced_list = []\n",
    "    with tiff.TiffFile(f, mode=\"r+b\") as tif:\n",
    "        print(f\" Processing {tif} for Enhancing Contrast...\")\n",
    "        for page in tif.pages:\n",
    "            contrast_enhanced_page = cv.convertScaleAbs(page.asarray(), alpha=alpha, beta=beta)\n",
    "            #Adding a Bilat filter to reduce salt and pepper noise\n",
    "            contrast_enhanced_page= cv.bilateralFilter(contrast_enhanced_page,9,75,75)\n",
    "            contrast_enhanced_list.append(contrast_enhanced_page)\n",
    "            contrast_enhanced_stack = np.stack(contrast_enhanced_list)\n",
    "    return contrast_enhanced_stack.astype(\"uint8\")\n",
    "\n",
    "def split_and_rename(f):\n",
    "    filename, exte = f.split(\".\")\n",
    "    _first, _last = filename.split(\"_\", 1)\n",
    "    fishnum, tag = _last.split(\"_\", 1)\n",
    "    # print(_first, fishnum, ext)\n",
    "    return _first, fishnum"
   ]
  },
  {
   "cell_type": "code",
   "execution_count": 9,
   "id": "83cd2483-67a7-4bc1-be60-34927e1c6b72",
   "metadata": {},
   "outputs": [
    {
     "name": "stdout",
     "output_type": "stream",
     "text": [
      "The file shhGFP_1_HuClyntagRFP_ref.tif has dimensions : (331, 1946, 1024) and is of type: uint8 \n",
      " Processing TiffFile 'shhGFP_1_HuClyntagRFP_ref.tif'  629.07 MiB  imagej  331 Pages for Enhancing Contrast...\n",
      "Creating file shhGFP_1_HuClyntagRFP_ref.tif ...\n",
      "Image stack to be rotated: shhGFP_1_HuClyntagRFP_ref.tif\n"
     ]
    },
    {
     "name": "stdin",
     "output_type": "stream",
     "text": [
      "Enter the angle by which image to be rotated: 1\n"
     ]
    },
    {
     "name": "stdout",
     "output_type": "stream",
     "text": [
      " Processing TiffFile 'shhGFP_1_HuClyntagRFP_ref.tif'  629.07 MiB  imagej  331 Pages for rotation...\n",
      "Creating Rotated Image: rotated_shhGFP_1_HuClyntagRFP_ref.tif\n",
      "*********************************************************\n",
      "The file shhGFP_1_HuClyntagRFP_sig.tif has dimensions : (331, 1946, 1024) and is of type: uint8 \n",
      " Processing TiffFile 'shhGFP_1_HuClyntagRFP_sig.tif'  629.07 MiB  imagej  331 Pages for Enhancing Contrast...\n",
      "Creating file shhGFP_1_HuClyntagRFP_sig.tif ...\n",
      "Image stack to be rotated: shhGFP_1_HuClyntagRFP_sig.tif\n"
     ]
    },
    {
     "name": "stdin",
     "output_type": "stream",
     "text": [
      "Enter the angle by which image to be rotated: 1\n"
     ]
    },
    {
     "name": "stdout",
     "output_type": "stream",
     "text": [
      " Processing TiffFile 'shhGFP_1_HuClyntagRFP_sig.tif'  629.07 MiB  imagej  331 Pages for rotation...\n",
      "Creating Rotated Image: rotated_shhGFP_1_HuClyntagRFP_sig.tif\n",
      "*********************************************************\n",
      "The file shhGFP_2_HuClyntagRFP_ref.tif has dimensions : (377, 1946, 1024) and is of type: uint8 \n",
      " Processing TiffFile 'shhGFP_2_HuClyntagRFP_ref.tif'  716.49 MiB  imagej  377 Pages for Enhancing Contrast...\n",
      "Creating file shhGFP_2_HuClyntagRFP_ref.tif ...\n",
      "Image stack to be rotated: shhGFP_2_HuClyntagRFP_ref.tif\n"
     ]
    },
    {
     "name": "stdin",
     "output_type": "stream",
     "text": [
      "Enter the angle by which image to be rotated: -1\n"
     ]
    },
    {
     "name": "stdout",
     "output_type": "stream",
     "text": [
      " Processing TiffFile 'shhGFP_2_HuClyntagRFP_ref.tif'  716.49 MiB  imagej  377 Pages for rotation...\n",
      "Creating Rotated Image: rotated_shhGFP_2_HuClyntagRFP_ref.tif\n",
      "*********************************************************\n",
      "The file shhGFP_2_HuClyntagRFP_sig.tif has dimensions : (377, 1946, 1024) and is of type: uint8 \n",
      " Processing TiffFile 'shhGFP_2_HuClyntagRFP_sig.tif'  716.49 MiB  imagej  377 Pages for Enhancing Contrast...\n",
      "Creating file shhGFP_2_HuClyntagRFP_sig.tif ...\n",
      "Image stack to be rotated: shhGFP_2_HuClyntagRFP_sig.tif\n"
     ]
    },
    {
     "name": "stdin",
     "output_type": "stream",
     "text": [
      "Enter the angle by which image to be rotated: -1\n"
     ]
    },
    {
     "name": "stdout",
     "output_type": "stream",
     "text": [
      " Processing TiffFile 'shhGFP_2_HuClyntagRFP_sig.tif'  716.49 MiB  imagej  377 Pages for rotation...\n",
      "Creating Rotated Image: rotated_shhGFP_2_HuClyntagRFP_sig.tif\n",
      "*********************************************************\n",
      "The file shhGFP_3_HuClyntagRFP_ref.tif has dimensions : (450, 1946, 1024) and is of type: uint8 \n",
      " Processing TiffFile 'shhGFP_3_HuClyntagRFP_ref.tif'  855.22 MiB  imagej  450 Pages for Enhancing Contrast...\n",
      "Creating file shhGFP_3_HuClyntagRFP_ref.tif ...\n",
      "Image stack to be rotated: shhGFP_3_HuClyntagRFP_ref.tif\n"
     ]
    },
    {
     "name": "stdin",
     "output_type": "stream",
     "text": [
      "Enter the angle by which image to be rotated: -3\n"
     ]
    },
    {
     "name": "stdout",
     "output_type": "stream",
     "text": [
      " Processing TiffFile 'shhGFP_3_HuClyntagRFP_ref.tif'  855.22 MiB  imagej  450 Pages for rotation...\n",
      "Creating Rotated Image: rotated_shhGFP_3_HuClyntagRFP_ref.tif\n",
      "*********************************************************\n",
      "The file shhGFP_3_HuClyntagRFP_sig.tif has dimensions : (450, 1946, 1024) and is of type: uint8 \n",
      " Processing TiffFile 'shhGFP_3_HuClyntagRFP_sig.tif'  855.22 MiB  imagej  450 Pages for Enhancing Contrast...\n",
      "Creating file shhGFP_3_HuClyntagRFP_sig.tif ...\n",
      "Image stack to be rotated: shhGFP_3_HuClyntagRFP_sig.tif\n"
     ]
    },
    {
     "name": "stdin",
     "output_type": "stream",
     "text": [
      "Enter the angle by which image to be rotated: -3\n"
     ]
    },
    {
     "name": "stdout",
     "output_type": "stream",
     "text": [
      " Processing TiffFile 'shhGFP_3_HuClyntagRFP_sig.tif'  855.22 MiB  imagej  450 Pages for rotation...\n",
      "Creating Rotated Image: rotated_shhGFP_3_HuClyntagRFP_sig.tif\n",
      "*********************************************************\n",
      "The file shhGFP_4_HuClyntagRFP_ref.tif has dimensions : (336, 1946, 1024) and is of type: uint8 \n",
      " Processing TiffFile 'shhGFP_4_HuClyntagRFP_ref.tif'  638.57 MiB  imagej  336 Pages for Enhancing Contrast...\n",
      "Creating file shhGFP_4_HuClyntagRFP_ref.tif ...\n",
      "Image stack to be rotated: shhGFP_4_HuClyntagRFP_ref.tif\n"
     ]
    },
    {
     "name": "stdin",
     "output_type": "stream",
     "text": [
      "Enter the angle by which image to be rotated: 3\n"
     ]
    },
    {
     "name": "stdout",
     "output_type": "stream",
     "text": [
      " Processing TiffFile 'shhGFP_4_HuClyntagRFP_ref.tif'  638.57 MiB  imagej  336 Pages for rotation...\n",
      "Creating Rotated Image: rotated_shhGFP_4_HuClyntagRFP_ref.tif\n",
      "*********************************************************\n",
      "The file shhGFP_4_HuClyntagRFP_sig.tif has dimensions : (336, 1946, 1024) and is of type: uint8 \n",
      " Processing TiffFile 'shhGFP_4_HuClyntagRFP_sig.tif'  638.57 MiB  imagej  336 Pages for Enhancing Contrast...\n",
      "Creating file shhGFP_4_HuClyntagRFP_sig.tif ...\n",
      "Image stack to be rotated: shhGFP_4_HuClyntagRFP_sig.tif\n"
     ]
    },
    {
     "name": "stdin",
     "output_type": "stream",
     "text": [
      "Enter the angle by which image to be rotated: 3\n"
     ]
    },
    {
     "name": "stdout",
     "output_type": "stream",
     "text": [
      " Processing TiffFile 'shhGFP_4_HuClyntagRFP_sig.tif'  638.57 MiB  imagej  336 Pages for rotation...\n",
      "Creating Rotated Image: rotated_shhGFP_4_HuClyntagRFP_sig.tif\n",
      "*********************************************************\n",
      "The file shhGFP_5_HuClyntagRFP_ref.tif has dimensions : (412, 1946, 1024) and is of type: uint8 \n",
      " Processing TiffFile 'shhGFP_5_HuClyntagRFP_ref.tif'  783.01 MiB  imagej  412 Pages for Enhancing Contrast...\n",
      "Creating file shhGFP_5_HuClyntagRFP_ref.tif ...\n",
      "Image stack to be rotated: shhGFP_5_HuClyntagRFP_ref.tif\n"
     ]
    },
    {
     "name": "stdin",
     "output_type": "stream",
     "text": [
      "Enter the angle by which image to be rotated: 1\n"
     ]
    },
    {
     "name": "stdout",
     "output_type": "stream",
     "text": [
      " Processing TiffFile 'shhGFP_5_HuClyntagRFP_ref.tif'  783.01 MiB  imagej  412 Pages for rotation...\n",
      "Creating Rotated Image: rotated_shhGFP_5_HuClyntagRFP_ref.tif\n",
      "*********************************************************\n",
      "The file shhGFP_5_HuClyntagRFP_sig.tif has dimensions : (412, 1946, 1024) and is of type: uint8 \n",
      " Processing TiffFile 'shhGFP_5_HuClyntagRFP_sig.tif'  783.01 MiB  imagej  412 Pages for Enhancing Contrast...\n",
      "Creating file shhGFP_5_HuClyntagRFP_sig.tif ...\n",
      "Image stack to be rotated: shhGFP_5_HuClyntagRFP_sig.tif\n"
     ]
    },
    {
     "name": "stdin",
     "output_type": "stream",
     "text": [
      "Enter the angle by which image to be rotated: 1\n"
     ]
    },
    {
     "name": "stdout",
     "output_type": "stream",
     "text": [
      " Processing TiffFile 'shhGFP_5_HuClyntagRFP_sig.tif'  783.01 MiB  imagej  412 Pages for rotation...\n",
      "Creating Rotated Image: rotated_shhGFP_5_HuClyntagRFP_sig.tif\n",
      "*********************************************************\n",
      "The file shhGFP_6_HuClyntagRFP_ref.tif has dimensions : (376, 1943, 1028) and is of type: uint8 \n",
      " Processing TiffFile 'shhGFP_6_HuClyntagRFP_ref.tif'  716.27 MiB  imagej  376 Pages for Enhancing Contrast...\n",
      "Creating file shhGFP_6_HuClyntagRFP_ref.tif ...\n",
      "Image stack to be rotated: shhGFP_6_HuClyntagRFP_ref.tif\n"
     ]
    },
    {
     "name": "stdin",
     "output_type": "stream",
     "text": [
      "Enter the angle by which image to be rotated: -6\n"
     ]
    },
    {
     "name": "stdout",
     "output_type": "stream",
     "text": [
      " Processing TiffFile 'shhGFP_6_HuClyntagRFP_ref.tif'  716.27 MiB  imagej  376 Pages for rotation...\n",
      "Creating Rotated Image: rotated_shhGFP_6_HuClyntagRFP_ref.tif\n",
      "*********************************************************\n",
      "The file shhGFP_6_HuClyntagRFP_sig.tif has dimensions : (376, 1943, 1028) and is of type: uint8 \n",
      " Processing TiffFile 'shhGFP_6_HuClyntagRFP_sig.tif'  716.27 MiB  imagej  376 Pages for Enhancing Contrast...\n",
      "Creating file shhGFP_6_HuClyntagRFP_sig.tif ...\n",
      "Image stack to be rotated: shhGFP_6_HuClyntagRFP_sig.tif\n"
     ]
    },
    {
     "name": "stdin",
     "output_type": "stream",
     "text": [
      "Enter the angle by which image to be rotated: -6\n"
     ]
    },
    {
     "name": "stdout",
     "output_type": "stream",
     "text": [
      " Processing TiffFile 'shhGFP_6_HuClyntagRFP_sig.tif'  716.27 MiB  imagej  376 Pages for rotation...\n",
      "Creating Rotated Image: rotated_shhGFP_6_HuClyntagRFP_sig.tif\n",
      "*********************************************************\n",
      "The file shhGFP_7_HuClyntagRFP_ref.tif has dimensions : (346, 1946, 1024) and is of type: uint8 \n",
      " Processing TiffFile 'shhGFP_7_HuClyntagRFP_ref.tif'  657.57 MiB  imagej  346 Pages for Enhancing Contrast...\n",
      "Creating file shhGFP_7_HuClyntagRFP_ref.tif ...\n",
      "Image stack to be rotated: shhGFP_7_HuClyntagRFP_ref.tif\n"
     ]
    },
    {
     "name": "stdin",
     "output_type": "stream",
     "text": [
      "Enter the angle by which image to be rotated: 4\n"
     ]
    },
    {
     "name": "stdout",
     "output_type": "stream",
     "text": [
      " Processing TiffFile 'shhGFP_7_HuClyntagRFP_ref.tif'  657.57 MiB  imagej  346 Pages for rotation...\n",
      "Creating Rotated Image: rotated_shhGFP_7_HuClyntagRFP_ref.tif\n",
      "*********************************************************\n",
      "The file shhGFP_7_HuClyntagRFP_sig.tif has dimensions : (346, 1946, 1024) and is of type: uint8 \n",
      " Processing TiffFile 'shhGFP_7_HuClyntagRFP_sig.tif'  657.57 MiB  imagej  346 Pages for Enhancing Contrast...\n",
      "Creating file shhGFP_7_HuClyntagRFP_sig.tif ...\n",
      "Image stack to be rotated: shhGFP_7_HuClyntagRFP_sig.tif\n"
     ]
    },
    {
     "name": "stdin",
     "output_type": "stream",
     "text": [
      "Enter the angle by which image to be rotated: 4\n"
     ]
    },
    {
     "name": "stdout",
     "output_type": "stream",
     "text": [
      " Processing TiffFile 'shhGFP_7_HuClyntagRFP_sig.tif'  657.57 MiB  imagej  346 Pages for rotation...\n",
      "Creating Rotated Image: rotated_shhGFP_7_HuClyntagRFP_sig.tif\n",
      "*********************************************************\n",
      "The file shhGFP_8_HuClyntagRFP_ref.tif has dimensions : (344, 1946, 1024) and is of type: uint8 \n",
      " Processing TiffFile 'shhGFP_8_HuClyntagRFP_ref.tif'  653.77 MiB  imagej  344 Pages for Enhancing Contrast...\n",
      "Creating file shhGFP_8_HuClyntagRFP_ref.tif ...\n",
      "Image stack to be rotated: shhGFP_8_HuClyntagRFP_ref.tif\n"
     ]
    },
    {
     "name": "stdin",
     "output_type": "stream",
     "text": [
      "Enter the angle by which image to be rotated: -1\n"
     ]
    },
    {
     "name": "stdout",
     "output_type": "stream",
     "text": [
      " Processing TiffFile 'shhGFP_8_HuClyntagRFP_ref.tif'  653.77 MiB  imagej  344 Pages for rotation...\n",
      "Creating Rotated Image: rotated_shhGFP_8_HuClyntagRFP_ref.tif\n",
      "*********************************************************\n",
      "The file shhGFP_8_HuClyntagRFP_sig.tif has dimensions : (344, 1946, 1024) and is of type: uint8 \n",
      " Processing TiffFile 'shhGFP_8_HuClyntagRFP_sig.tif'  653.77 MiB  imagej  344 Pages for Enhancing Contrast...\n",
      "Creating file shhGFP_8_HuClyntagRFP_sig.tif ...\n",
      "Image stack to be rotated: shhGFP_8_HuClyntagRFP_sig.tif\n"
     ]
    },
    {
     "name": "stdin",
     "output_type": "stream",
     "text": [
      "Enter the angle by which image to be rotated: -1\n"
     ]
    },
    {
     "name": "stdout",
     "output_type": "stream",
     "text": [
      " Processing TiffFile 'shhGFP_8_HuClyntagRFP_sig.tif'  653.77 MiB  imagej  344 Pages for rotation...\n",
      "Creating Rotated Image: rotated_shhGFP_8_HuClyntagRFP_sig.tif\n",
      "*********************************************************\n",
      "The file shhGFP_9_HuClyntagRFP_ref.tif has dimensions : (315, 1941, 1025) and is of type: uint8 \n",
      " Processing TiffFile 'shhGFP_9_HuClyntagRFP_ref.tif'  597.70 MiB  imagej  315 Pages for Enhancing Contrast...\n",
      "Creating file shhGFP_9_HuClyntagRFP_ref.tif ...\n",
      "Image stack to be rotated: shhGFP_9_HuClyntagRFP_ref.tif\n"
     ]
    },
    {
     "name": "stdin",
     "output_type": "stream",
     "text": [
      "Enter the angle by which image to be rotated: 2\n"
     ]
    },
    {
     "name": "stdout",
     "output_type": "stream",
     "text": [
      " Processing TiffFile 'shhGFP_9_HuClyntagRFP_ref.tif'  597.70 MiB  imagej  315 Pages for rotation...\n",
      "Creating Rotated Image: rotated_shhGFP_9_HuClyntagRFP_ref.tif\n",
      "*********************************************************\n",
      "The file shhGFP_9_HuClyntagRFP_sig.tif has dimensions : (315, 1941, 1025) and is of type: uint8 \n",
      " Processing TiffFile 'shhGFP_9_HuClyntagRFP_sig.tif'  597.70 MiB  imagej  315 Pages for Enhancing Contrast...\n",
      "Creating file shhGFP_9_HuClyntagRFP_sig.tif ...\n",
      "Image stack to be rotated: shhGFP_9_HuClyntagRFP_sig.tif\n"
     ]
    },
    {
     "name": "stdin",
     "output_type": "stream",
     "text": [
      "Enter the angle by which image to be rotated: 2\n"
     ]
    },
    {
     "name": "stdout",
     "output_type": "stream",
     "text": [
      " Processing TiffFile 'shhGFP_9_HuClyntagRFP_sig.tif'  597.70 MiB  imagej  315 Pages for rotation...\n",
      "Creating Rotated Image: rotated_shhGFP_9_HuClyntagRFP_sig.tif\n",
      "*********************************************************\n"
     ]
    }
   ],
   "source": [
    "for item in os.listdir(line_path):\n",
    "    if item.endswith(\".tif\"):\n",
    "\n",
    "        # ****Contrast Enhancement, 8bit conversion, fixing voxel Depth******#\n",
    "        g = tiff.imread(os.path.join(line_path, item))\n",
    "        print(f\"The file {item} has dimensions : {g.shape} and is of type: {g.dtype} \")\n",
    "\n",
    "        CE_image = tiff_UnstackAndrestackForContrastEnhancement(os.path.join(line_path, item))\n",
    "        \n",
    "        print(f\"Creating file {item} ...\")\n",
    "        with tiff.TiffWriter(os.path.join(line_path, item), imagej=True) as tifw:\n",
    "            tifw.write(CE_image.astype(\"uint8\"),metadata={\"spacing\": 1.0, \"unit\": \"um\", \"axes\": \"ZYX\"})\n",
    "\n",
    "#         #***********Rotation*********************************#\n",
    "        print(f'Image stack to be rotated: {item}')\n",
    "        theta = float(input('Enter the angle by which image to be rotated:'))\n",
    "        rotated_page_list = []\n",
    "        rotated_image = tiff_unstackAndrestackForRotate(os.path.join(line_path, item))\n",
    "        print(f'Creating Rotated Image: rotated_{item}')\n",
    "        with tiff.TiffWriter(os.path.join(line_path, f\"{item}\"), imagej=True) as tifw:\n",
    "            tifw.write(rotated_image.astype('uint8'), metadata={'spacing': 1.0, 'unit': 'um', 'axes': 'ZYX'})\n",
    "        print('*********************************************************')"
   ]
  },
  {
   "cell_type": "code",
   "execution_count": 11,
   "id": "d513f070-9668-462f-83bc-6843d780814d",
   "metadata": {},
   "outputs": [
    {
     "name": "stdout",
     "output_type": "stream",
     "text": [
      "Final Saving of Images to respective folders!\n",
      "Creating C:\\Users\\keshavgubbi\\Desktop\\LinesReg\\210607_shhGFP_HuClyntagRFP\\original/processed/\n",
      "Creating C:\\Users\\keshavgubbi\\Desktop\\LinesReg\\210607_shhGFP_HuClyntagRFP\\original/processed_for_average/\n"
     ]
    }
   ],
   "source": [
    "# **********Final Saving of Images to respective folders********\n",
    "print(\"Final Saving of Images to respective folders!\")\n",
    "if not os.path.exists(processed_path):\n",
    "    print(f\"Creating {processed_path}\")\n",
    "    os.makedirs(processed_path, exist_ok=True)\n",
    "\n",
    "if not os.path.exists(processed_for_average_path):\n",
    "    print(f\"Creating {processed_for_average_path}\")\n",
    "    os.makedirs(processed_for_average_path, exist_ok=True)"
   ]
  },
  {
   "cell_type": "code",
   "execution_count": 12,
   "id": "146d7521-dcfe-49d4-b6fa-ac7b7c06f5d3",
   "metadata": {},
   "outputs": [
    {
     "name": "stdout",
     "output_type": "stream",
     "text": [
      "Image stack to be saved: shhGFP_1_HuClyntagRFP_ref.tif\n",
      "Creating shhGFP_1_HuClyntagRFP.nrrd\n",
      "Creating shhGFP_1_HuClyntagRFP.tif\n",
      "Image stack to be saved: shhGFP_2_HuClyntagRFP_ref.tif\n",
      "Creating shhGFP_2_HuClyntagRFP.nrrd\n",
      "Creating shhGFP_2_HuClyntagRFP.tif\n",
      "Image stack to be saved: shhGFP_3_HuClyntagRFP_ref.tif\n",
      "Creating shhGFP_3_HuClyntagRFP.nrrd\n",
      "Creating shhGFP_3_HuClyntagRFP.tif\n",
      "Image stack to be saved: shhGFP_4_HuClyntagRFP_ref.tif\n",
      "Creating shhGFP_4_HuClyntagRFP.nrrd\n",
      "Creating shhGFP_4_HuClyntagRFP.tif\n",
      "Image stack to be saved: shhGFP_5_HuClyntagRFP_ref.tif\n",
      "Creating shhGFP_5_HuClyntagRFP.nrrd\n",
      "Creating shhGFP_5_HuClyntagRFP.tif\n",
      "Image stack to be saved: shhGFP_6_HuClyntagRFP_ref.tif\n",
      "Creating shhGFP_6_HuClyntagRFP.nrrd\n",
      "Creating shhGFP_6_HuClyntagRFP.tif\n",
      "Image stack to be saved: shhGFP_7_HuClyntagRFP_ref.tif\n",
      "Creating shhGFP_7_HuClyntagRFP.nrrd\n",
      "Creating shhGFP_7_HuClyntagRFP.tif\n",
      "Image stack to be saved: shhGFP_8_HuClyntagRFP_ref.tif\n",
      "Creating shhGFP_8_HuClyntagRFP.nrrd\n",
      "Creating shhGFP_8_HuClyntagRFP.tif\n",
      "Image stack to be saved: shhGFP_9_HuClyntagRFP_ref.tif\n",
      "Creating shhGFP_9_HuClyntagRFP.nrrd\n",
      "Creating shhGFP_9_HuClyntagRFP.tif\n"
     ]
    }
   ],
   "source": [
    "for item in os.listdir(line_path):\n",
    "    if item.endswith(\".tif\") and re.search(\"ref\", str(item)):\n",
    "        print(f\"Image stack to be saved: {item}\")\n",
    "        # Read the data back from file\n",
    "        readdata = tiff.imread(os.path.join(line_path, item))\n",
    "        name, fn = split_and_rename(item)\n",
    "\n",
    "        print(f\"Creating {name}_{fn}_{tag_name}.nrrd\")\n",
    "        nrrd.write(os.path.join(processed_path, f\"{name}_{fn}_{tag_name}.nrrd\"),readdata,index_order=\"C\",)\n",
    "\n",
    "        print(f\"Creating {name}_{fn}_{tag_name}.tif\")\n",
    "        with tiff.TiffWriter(os.path.join(processed_for_average_path, f\"{name}_{fn}_{tag_name}.tif\"),imagej=True,) as tifw:\n",
    "            tifw.write(readdata.astype(\"uint8\"),metadata={\"spacing\": 1.0, \"unit\": \"um\", \"axes\": \"ZYX\"},)"
   ]
  },
  {
   "cell_type": "code",
   "execution_count": 13,
   "id": "096fd482-98ab-4a90-9cec-dc6d9372ccec",
   "metadata": {},
   "outputs": [
    {
     "name": "stdout",
     "output_type": "stream",
     "text": [
      "Creating shhGFP_1_GFP.nrrd\n",
      "Creating shhGFP_1_GFP.tif\n",
      "Creating shhGFP_2_GFP.nrrd\n",
      "Creating shhGFP_2_GFP.tif\n",
      "Creating shhGFP_3_GFP.nrrd\n",
      "Creating shhGFP_3_GFP.tif\n",
      "Creating shhGFP_4_GFP.nrrd\n",
      "Creating shhGFP_4_GFP.tif\n",
      "Creating shhGFP_5_GFP.nrrd\n",
      "Creating shhGFP_5_GFP.tif\n",
      "Creating shhGFP_6_GFP.nrrd\n",
      "Creating shhGFP_6_GFP.tif\n",
      "Creating shhGFP_7_GFP.nrrd\n",
      "Creating shhGFP_7_GFP.tif\n",
      "Creating shhGFP_8_GFP.nrrd\n",
      "Creating shhGFP_8_GFP.tif\n",
      "Creating shhGFP_9_GFP.nrrd\n",
      "Creating shhGFP_9_GFP.tif\n"
     ]
    }
   ],
   "source": [
    "for item in os.listdir(line_path):\n",
    "    if item.endswith(\".tif\") and re.search(\"sig\", str(item)):\n",
    "        # Read the data back from file\n",
    "        readdata = tiff.imread(os.path.join(line_path, item))\n",
    "        name, fn = split_and_rename(item)\n",
    "\n",
    "        print(f\"Creating {name}_{fn}_GFP.nrrd\")\n",
    "        nrrd.write(os.path.join(processed_path, f\"{name}_{fn}_GFP.nrrd\"),readdata,index_order=\"C\",)\n",
    "\n",
    "        print(f\"Creating {name}_{fn}_GFP.tif\")\n",
    "        with tiff.TiffWriter(os.path.join(processed_for_average_path, f\"{name}_{fn}_GFP.tif\"),imagej=True,) as tifw:\n",
    "            tifw.write(readdata.astype(\"uint8\"),metadata={\"spacing\": 1.0, \"unit\": \"um\", \"axes\": \"ZYX\"},)\n"
   ]
  },
  {
   "cell_type": "code",
   "execution_count": null,
   "id": "a434c873-4915-48b4-9f28-ae60ad4222f0",
   "metadata": {},
   "outputs": [],
   "source": []
  },
  {
   "cell_type": "code",
   "execution_count": null,
   "id": "d33a585e-455a-4c2d-a6fd-f088e29292da",
   "metadata": {},
   "outputs": [],
   "source": []
  }
 ],
 "metadata": {
  "kernelspec": {
   "display_name": "Python 3",
   "language": "python",
   "name": "python3"
  },
  "language_info": {
   "codemirror_mode": {
    "name": "ipython",
    "version": 3
   },
   "file_extension": ".py",
   "mimetype": "text/x-python",
   "name": "python",
   "nbconvert_exporter": "python",
   "pygments_lexer": "ipython3",
   "version": "3.8.10"
  }
 },
 "nbformat": 4,
 "nbformat_minor": 5
}
