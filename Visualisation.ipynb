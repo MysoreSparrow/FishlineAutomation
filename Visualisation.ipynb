{
 "cells": [
  {
   "cell_type": "code",
   "execution_count": 2,
   "id": "c189a7d8-5345-43d7-a670-2273d9d6d0f9",
   "metadata": {},
   "outputs": [
    {
     "name": "stdout",
     "output_type": "stream",
     "text": [
      "Warning: Cannot change to a different GUI toolkit: notebook. Using qt instead.\n"
     ]
    }
   ],
   "source": [
    "%matplotlib notebook"
   ]
  },
  {
   "cell_type": "code",
   "execution_count": 2,
   "id": "ecb63ebc-1560-45b2-a928-9dec95fa5a95",
   "metadata": {},
   "outputs": [],
   "source": [
    "import matplotlib as plt\n",
    "import os \n",
    "import numpy as np\n",
    "import imageio as io"
   ]
  },
  {
   "cell_type": "code",
   "execution_count": 3,
   "id": "ba8c3662-eb6c-4356-8b60-8059fc2751ed",
   "metadata": {},
   "outputs": [],
   "source": [
    "v_path = r'C:\\Users\\keshavgubbi\\Desktop\\LinesReg\\v\\original'"
   ]
  },
  {
   "cell_type": "code",
   "execution_count": 4,
   "id": "e75f4328-cb43-47c2-b09f-73ab4a6b0a0b",
   "metadata": {},
   "outputs": [
    {
     "name": "stdout",
     "output_type": "stream",
     "text": [
      "shhGFP_1_HuClyntagRFP_ref.tif\n",
      "shhGFP_1_HuClyntagRFP_sig.tif\n"
     ]
    }
   ],
   "source": [
    "for file in os.listdir(v_path):\n",
    "    print(file)\n"
   ]
  },
  {
   "cell_type": "code",
   "execution_count": null,
   "id": "395361f3-c3ce-417f-8379-6edf9a875239",
   "metadata": {},
   "outputs": [],
   "source": []
  }
 ],
 "metadata": {
  "kernelspec": {
   "display_name": "Python 3",
   "language": "python",
   "name": "python3"
  },
  "language_info": {
   "codemirror_mode": {
    "name": "ipython",
    "version": 3
   },
   "file_extension": ".py",
   "mimetype": "text/x-python",
   "name": "python",
   "nbconvert_exporter": "python",
   "pygments_lexer": "ipython3",
   "version": "3.8.8"
  }
 },
 "nbformat": 4,
 "nbformat_minor": 5
}
